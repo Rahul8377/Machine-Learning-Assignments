{
 "cells": [
  {
   "cell_type": "markdown",
   "id": "04f54912",
   "metadata": {},
   "source": [
    "# Given X be a discrete random variable with the following PMF\n",
    "\n",
    "1. Find the range RX of the random variable X.\n",
    "2. Find P(X ≤ 0.5)\n",
    "3. Find P(0.25&lt;X&lt;0.75)\n",
    "4. P(X = 0.2|X&lt;0.6)"
   ]
  },
  {
   "cell_type": "markdown",
   "id": "8c4805c6",
   "metadata": {},
   "source": [
    "# Solution"
   ]
  },
  {
   "cell_type": "markdown",
   "id": "387f0095",
   "metadata": {},
   "source": [
    "To find the range of the random variable X, we need to determine the set of all possible values that X can take. In this case, the possible values of X are 0.2, 0.4, 0.5, 0.8, and 1. Therefore, the range of X is:\n",
    "\n",
    "RX = {0.2, 0.4, 0.5, 0.8, 1}\n",
    "\n",
    "To find P(X ≤ 0.5), we need to calculate the probability of X taking on values less than or equal to 0.5. In this case, we sum up the probabilities of X = 0.2, X = 0.4, and X = 0.5:\n",
    "\n",
    "P(X ≤ 0.5) = P(X = 0.2) + P(X = 0.4) + P(X = 0.5)\n",
    "= 0.1 + 0.2 + 0.2\n",
    "= 0.5\n",
    "\n",
    "Therefore, P(X ≤ 0.5) is 0.5.\n",
    "\n",
    "To find P(0.25 < X < 0.75), we need to calculate the probability of X taking on values between 0.25 and 0.75, excluding the endpoints. In this case, we sum up the probabilities of X = 0.4 and X = 0.5:\n",
    "\n",
    "P(0.25 < X < 0.75) = P(X = 0.4) + P(X = 0.5)\n",
    "= 0.2 + 0.2\n",
    "= 0.4\n",
    "\n",
    "Therefore, P(0.25 < X < 0.75) is 0.4.\n",
    "\n",
    "To find P(X = 0.2|X < 0.6), we need to calculate the conditional probability of X being equal to 0.2 given that X is less than 0.6. In this case, we sum up the probabilities of X = 0.2 and X = 0.4, and divide it by the sum of the probabilities of X < 0.6:\n",
    "\n",
    "P(X = 0.2|X < 0.6) = [P(X = 0.2) + P(X = 0.4)] / [P(X = 0.2) + P(X = 0.4) + P(X = 0.5)]\n",
    "= (0.1 + 0.2) / (0.1 + 0.2 + 0.2)\n",
    "= 0.3 / 0.5\n",
    "= 0.6\n",
    "\n",
    "Therefore, P(X = 0.2|X < 0.6) is 0.6."
   ]
  },
  {
   "cell_type": "markdown",
   "id": "d6401e9f",
   "metadata": {},
   "source": [
    "# 2. Two equal and fair dice are rolled, and we observed two numbers X and Y.\n",
    "1. Find RX, RY, and the PMFs of X and Y.\n",
    "2. Find P(X = 2,Y = 6).\n",
    "3. Find P(X&gt;3|Y = 2).\n",
    "4. If Z = X + Y. Find the range and PMF of Z.\n",
    "5. Find P(X = 4|Z = 8)."
   ]
  },
  {
   "cell_type": "markdown",
   "id": "7e5a195a",
   "metadata": {},
   "source": [
    "\n",
    "The range of X and Y can be determined by considering all the possible outcomes of rolling two fair dice. Since each die has six faces numbered 1 to 6, the range of X and Y is:\n",
    "RX = {1, 2, 3, 4, 5, 6}\n",
    "RY = {1, 2, 3, 4, 5, 6}\n",
    "\n",
    "The PMFs of X and Y are both uniform because each outcome has an equal probability of occurring. Therefore, for each value in the range, the PMF is:\n",
    "\n",
    "P(X = i) = 1/6 for i = 1, 2, 3, 4, 5, 6\n",
    "P(Y = j) = 1/6 for j = 1, 2, 3, 4, 5, 6\n",
    "\n",
    "P(X = 2, Y = 6) is the probability that the first die shows 2 and the second die shows 6. Since the dice are fair and independent, the probability of each outcome is 1/6. Therefore:\n",
    "P(X = 2, Y = 6) = P(X = 2) * P(Y = 6) = (1/6) * (1/6) = 1/36\n",
    "\n",
    "P(X > 3 | Y = 2) is the probability that X is greater than 3 given that Y is 2. Since Y is fixed at 2, we only need to consider the outcomes where Y = 2. The possible values of X in this case are {4, 5, 6}. The probability of each outcome is 1/6, so:\n",
    "P(X > 3 | Y = 2) = P(X = 4 | Y = 2) + P(X = 5 | Y = 2) + P(X = 6 | Y = 2)\n",
    "= (1/6) + (1/6) + (1/6)\n",
    "= 3/6\n",
    "= 1/2\n",
    "\n",
    "If Z = X + Y, the range of Z is the set of all possible sums of X and Y. Since X and Y both range from 1 to 6, the possible values of Z range from 2 (1 + 1) to 12 (6 + 6). Therefore, the range of Z is:\n",
    "RZ = {2, 3, 4, 5, 6, 7, 8, 9, 10, 11, 12}\n",
    "\n",
    "To find the PMF of Z, we need to determine the probability of each sum in the range. Since the dice are fair and independent, the probability of each sum is given by the number of favorable outcomes divided by the total number of outcomes.\n",
    "\n",
    "For example, to find P(Z = 2), there is only one favorable outcome (1 + 1) out of a total of 36 possible outcomes (6 × 6), so:\n",
    "\n",
    "P(Z = 2) = 1/36\n",
    "\n",
    "Similarly, P(Z = 3) = 2/36, P(Z = 4) = 3/36, and so on, up to P(Z = 12) = 1/36.\n",
    "\n",
    "To find P(X = 4 | Z = 8), we need to calculate the conditional probability of X being 4 given that Z is 8. We can determine the possible values of Y that would result in Z being 8. In this case, Y can be either 4 or 2 (since X = 4 and Y = 4 would give Z = 8, as well as X = 2 and Y = 6).\n",
    "Therefore, we need to consider the two possible outcomes where X = 4 and Z = 8:\n",
    "\n",
    "P(X = 4 | Z = 8) = P(X = 4, Y = 4) + P(X = 4, Y = 2)\n",
    "\n",
    "Since X and Y are independent, the probability of each outcome is given by multiplying the probabilities of X and Y individually:\n",
    "\n",
    "P(X = 4 | Z = 8) = P(X = 4) * P(Y = 4) + P(X = 4) * P(Y = 2)\n",
    "= (1/6) * (1/6) + (1/6) * (1/6)\n",
    "= 2/36\n",
    "= 1/18\n",
    "\n",
    "Therefore, P(X = 4 | Z = 8) is 1/18."
   ]
  },
  {
   "cell_type": "markdown",
   "id": "833c03b7",
   "metadata": {},
   "source": [
    "# 3. In an exam, there were 20 multiple-choice questions. Each question had 44 possible\n",
    "options. A student knew the answer to 10 questions, but the other 10 questions were unknown\n",
    "to him, and he chose answers randomly. If the student X&#39;s score is equal to the total number\n",
    "of correct answers, then find out the PMF of X. What is P(X&gt;15)?"
   ]
  },
  {
   "cell_type": "markdown",
   "id": "c592dabd",
   "metadata": {},
   "source": [
    "# To find the PMF of X, we need to determine the probability of each possible score the student can achieve. The student knows the answer to 10 questions, so their score can range from 10 to 20.\n",
    "\n",
    "Let's calculate the probabilities for each score:\n",
    "\n",
    "P(X = 10) - The student knows the answer to all 10 questions, so the probability of getting all of them correct is 1.\n",
    "\n",
    "P(X = 11) - The student needs to guess 1 question correctly out of the 10 unknown questions. Since there are 44 options for each question, the probability of guessing one correctly is 1/44. Therefore, the probability of getting X = 11 is (10 choose 1) * (1/44)^1 * (43/44)^9.\n",
    "\n",
    "P(X = 12) - The student needs to guess 2 questions correctly out of the 10 unknown questions. The probability of guessing two correctly is (10 choose 2) * (1/44)^2 * (43/44)^8.\n",
    "\n",
    "Continuing this pattern, we can calculate the probabilities for X = 13, 14, ..., 20.\n",
    "\n",
    "The probability of X > 15 is the sum of the probabilities for X = 16, 17, ..., 20:\n",
    "\n",
    "P(X > 15) = P(X = 16) + P(X = 17) + ... + P(X = 20)\n",
    "\n",
    "To calculate these probabilities, we can follow the same formula as before and sum them up.\n",
    "\n",
    "Note: The notation \"n choose k\" represents the binomial coefficient, which calculates the number of ways to choose k objects from a set of n objects.\n",
    "\n",
    "By performing these calculations, we can determine the PMF of X and find P(X > 15)."
   ]
  },
  {
   "cell_type": "markdown",
   "id": "ee76a7d7",
   "metadata": {},
   "source": [
    "# 4. The number of students arriving at a college between a time interval is a Poisson random\n",
    "variable. On average, 10 students arrive per hour. Let Y be the number of students arriving\n",
    "from 10 am to 11:30 am. What is P(10&lt;Y≤15)?"
   ]
  },
  {
   "cell_type": "markdown",
   "id": "1d0c3dc5",
   "metadata": {},
   "source": [
    "# Solution"
   ]
  },
  {
   "cell_type": "markdown",
   "id": "3c525bbb",
   "metadata": {},
   "source": [
    "Given that the number of students arriving at the college follows a Poisson distribution with an average rate of 10 students per hour, we can calculate the probability of Y, the number of students arriving from 10 am to 11:30 am.\n",
    "\n",
    "To find P(10 < Y ≤ 15), we need to calculate the cumulative probability from Y = 11 to Y = 15.\n",
    "\n",
    "Let's denote λ as the average number of arrivals within the given time interval. Since the time interval is 1.5 hours (from 10 am to 11:30 am), the average number of arrivals during this interval would be:\n",
    "\n",
    "λ = (10 students/hour) * (1.5 hours) = 15 students\n",
    "\n",
    "Now, we can use the Poisson distribution formula to calculate the probability of each value of Y and sum them up for the desired range:\n",
    "\n",
    "P(10 < Y ≤ 15) = P(Y = 11) + P(Y = 12) + P(Y = 13) + P(Y = 14) + P(Y = 15)\n",
    "\n",
    "The probability mass function (PMF) of a Poisson distribution is given by:\n",
    "\n",
    "P(Y = k) = (e^(-λ) * λ^k) / k!\n",
    "\n",
    "where e is the base of the natural logarithm (approximately 2.71828).\n",
    "\n",
    "Substituting the value of λ = 15 into the PMF, we can calculate the probabilities for each value:\n",
    "\n",
    "P(Y = 11) = (e^(-15) * 15^11) / 11!\n",
    "P(Y = 12) = (e^(-15) * 15^12) / 12!\n",
    "P(Y = 13) = (e^(-15) * 15^13) / 13!\n",
    "P(Y = 14) = (e^(-15) * 15^14) / 14!\n",
    "P(Y = 15) = (e^(-15) * 15^15) / 15!\n",
    "\n",
    "Calculate each of these probabilities and sum them up to find P(10 < Y ≤ 15)."
   ]
  },
  {
   "cell_type": "markdown",
   "id": "1c6352d4",
   "metadata": {},
   "source": [
    "# 5.Two independent random variables, X and Y,are given such that X~Poisson(α) and\n",
    "Y~Poisson(β). State a new random variable as Z = X + Y. Find out the PMF of Z."
   ]
  },
  {
   "cell_type": "markdown",
   "id": "e0e6de22",
   "metadata": {},
   "source": [
    "# Solution"
   ]
  },
  {
   "cell_type": "markdown",
   "id": "0d148026",
   "metadata": {},
   "source": [
    "the PMF (Probability Mass Function) of the random variable Z = X + Y, where X ~ Poisson(α) and Y ~ Poisson(β), we need to convolve the PMFs of X and Y.\n",
    "\n",
    "The PMF of a Poisson distribution is given by:\n",
    "\n",
    "P(X = k) = (e^(-α) * α^k) / k!\n",
    "P(Y = k) = (e^(-β) * β^k) / k!\n",
    "\n",
    "To find the PMF of Z, we convolve the PMFs of X and Y by summing the probabilities for each possible sum k:\n",
    "\n",
    "P(Z = k) = P(X + Y = k) = ∑ P(X = i) * P(Y = k - i)\n",
    "\n",
    "where the summation is taken over all i such that 0 ≤ i ≤ k.\n",
    "\n",
    "Let's calculate the PMF of Z step by step:\n",
    "\n",
    "P(Z = 0) = P(X + Y = 0) = P(X = 0) * P(Y = 0)\n",
    "= (e^(-α) * α^0 / 0!) * (e^(-β) * β^0 / 0!)\n",
    "= e^(-α) * e^(-β)\n",
    "= e^(-(α + β))\n",
    "\n",
    "P(Z = 1) = P(X + Y = 1) = P(X = 0) * P(Y = 1) + P(X = 1) * P(Y = 0)\n",
    "= (e^(-α) * α^0 / 0!) * (e^(-β) * β^1 / 1!) + (e^(-α) * α^1 / 1!) * (e^(-β) * β^0 / 0!)\n",
    "= e^(-α) * e^(-β) * (α * β)\n",
    "\n",
    "Continuing this process for higher values of k, we can find the PMF of Z.\n",
    "\n",
    "P(Z = k) = e^(-(α + β)) * (α^0 * β^k / k!) + α^1 * β^(k-1) / (1! * (k-1)!) + ... + α^k * β^0 / (k! * 0!)\n",
    "\n",
    "Simplifying this expression gives the PMF of Z, which can be used to calculate the probabilities for any given value of k."
   ]
  },
  {
   "cell_type": "markdown",
   "id": "0fe04923",
   "metadata": {},
   "source": [
    "# 6. There is a discrete random variable X with the pmf. \n",
    "\n",
    "                    | 1/4 when x = -2\n",
    "         P(x)  =    | 1/8 when x = -5/4 when x = 20 otherwise x = 0\n",
    "                    | 11/84 when x = 1\n",
    "\n",
    "\n",
    "\n",
    "\n",
    "If we define a new random variable Y = (X + 1)2 then\n",
    "\n",
    "1. Find the range of Y.\n",
    "\n",
    "2. Find the pmf of Y."
   ]
  },
  {
   "cell_type": "markdown",
   "id": "09d9a8d6",
   "metadata": {},
   "source": [
    "# Solution"
   ]
  },
  {
   "cell_type": "markdown",
   "id": "5acaff73",
   "metadata": {},
   "source": [
    "To find the range and PMF of the random variable Y = (X + 1)^2, we need to apply the transformation to the range and PMF of X.\n",
    "\n",
    "Range of Y:\n",
    "Since Y is defined as the square of (X + 1), the range of Y will depend on the values in the range of X. Let's consider each possible value of X:\n",
    "For X = -2:\n",
    "Y = (-2 + 1)^2 = (-1)^2 = 1\n",
    "\n",
    "For X = -5/4:\n",
    "Y = (-5/4 + 1)^2 = (-1/4)^2 = 1/16\n",
    "\n",
    "For X = 0:\n",
    "Y = (0 + 1)^2 = 1^2 = 1\n",
    "\n",
    "For X = 20:\n",
    "Y = (20 + 1)^2 = 21^2 = 441\n",
    "\n",
    "Therefore, the range of Y is:\n",
    "RY = {1, 1/16, 441}\n",
    "\n",
    "PMF of Y:\n",
    "To find the PMF of Y, we need to determine the probabilities for each value in the range of Y. We'll calculate the probabilities based on the given PMF of X.\n",
    "For Y = 1:\n",
    "We have two cases in the PMF of X that result in Y = 1: X = -2 and X = 0.\n",
    "P(Y = 1) = P(X = -2) + P(X = 0) = 1/4 + 20/84 = 26/84\n",
    "\n",
    "For Y = 1/16:\n",
    "We have one case in the PMF of X that results in Y = 1/16: X = -5/4.\n",
    "P(Y = 1/16) = P(X = -5/4) = 1/8\n",
    "\n",
    "For Y = 441:\n",
    "We have one case in the PMF of X that results in Y = 441: X = 20.\n",
    "P(Y = 441) = P(X = 20) = 11/84\n",
    "\n",
    "For any other value of Y not in the range, the probability will be 0.\n",
    "\n",
    "Therefore, the PMF of Y is:\n",
    "P(Y = 1) = 26/84\n",
    "P(Y = 1/16) = 1/8\n",
    "P(Y = 441) = 11/84\n",
    "\n",
    "For any other value of Y not in the range, P(Y) = 0."
   ]
  },
  {
   "cell_type": "markdown",
   "id": "6a203c6e",
   "metadata": {},
   "source": [
    "# 8.There are 100 men on a ship. If Xi is the ith man&#39;s weight on the ship and Xi&#39;s are independent and\n",
    "identically distributed and EXi = μ = 170 and σXi = σ = 30. Find the probability that the men&#39;s total\n",
    "weight on the ship exceeds 18,000."
   ]
  },
  {
   "cell_type": "markdown",
   "id": "0f9a09d6",
   "metadata": {},
   "source": [
    "# Solution"
   ]
  },
  {
   "cell_type": "markdown",
   "id": "08660d33",
   "metadata": {},
   "source": [
    "the probability that the total weight of the men on the ship exceeds 18,000, we need to consider the sum of the weights of all the men, which can be represented as the random variable S:\n",
    "\n",
    "S = X1 + X2 + X3 + ... + X100\n",
    "\n",
    "where X1, X2, ..., X100 are the weights of the individual men.\n",
    "\n",
    "Since the weights Xi are independent and identically distributed, the sum S follows a normal distribution with mean E(S) and standard deviation σ(S) given by:\n",
    "\n",
    "E(S) = E(X1) + E(X2) + ... + E(X100) = 100 * μ\n",
    "σ(S) = sqrt(Var(X1) + Var(X2) + ... + Var(X100)) = sqrt(100 * σ^2)\n",
    "\n",
    "Substituting the given values:\n",
    "E(S) = 100 * 170 = 17000\n",
    "σ(S) = sqrt(100 * 30^2) = 300\n",
    "\n",
    "Now, we need to find the probability that the total weight exceeds 18,000, which can be expressed as:\n",
    "\n",
    "P(S > 18000) = 1 - P(S ≤ 18000)\n",
    "\n",
    "To calculate P(S ≤ 18000), we need to standardize the value and use the standard normal distribution. Let Z be the standardized random variable:\n",
    "\n",
    "Z = (S - E(S)) / σ(S)\n",
    "\n",
    "Substituting the values:\n",
    "Z = (18000 - 17000) / 300 = 1/3\n",
    "\n",
    "Using the standard normal distribution table or a calculator, we can find the probability associated with Z = 1/3. Let's denote this probability as P(Z ≤ 1/3).\n",
    "\n",
    "Finally, we can calculate the probability of interest:\n",
    "\n",
    "P(S > 18000) = 1 - P(S ≤ 18000) = 1 - P(Z ≤ 1/3)\n",
    "\n",
    "Using the standard normal distribution table or a calculator, find the value of P(Z ≤ 1/3), subtract it from 1, and that will give you the probability that the men's total weight on the ship exceeds 18,000."
   ]
  },
  {
   "cell_type": "markdown",
   "id": "3330380f",
   "metadata": {},
   "source": [
    "# 9.Let X1, X2, ……, X25 are independent and identically distributed. And have the following PMF\n",
    "\n",
    "If Y = X1 + X2 + … + Xn, estimate P(4 ≤ Y ≤ 6) using central limit theorem."
   ]
  },
  {
   "cell_type": "markdown",
   "id": "8a6f87ee",
   "metadata": {},
   "source": [
    "# Solution"
   ]
  },
  {
   "cell_type": "markdown",
   "id": "de058216",
   "metadata": {},
   "source": [
    "To estimate P(4 ≤ Y ≤ 6) using the central limit theorem, we need to consider the sum Y = X1 + X2 + ... + Xn, where X1, X2, ..., Xn are independent and identically distributed random variables with a given PMF.\n",
    "\n",
    "The central limit theorem states that when n is large enough, the sum of independent and identically distributed random variables approaches a normal distribution.\n",
    "\n",
    "Given that we have n = 25 random variables, we can use the central limit theorem to approximate the distribution of Y.\n",
    "\n",
    "The mean of Y, E(Y), can be calculated by multiplying the mean of each X variable by the number of variables:\n",
    "\n",
    "E(Y) = n * E(X)\n",
    "\n",
    "Similarly, the standard deviation of Y, σ(Y), can be calculated by multiplying the standard deviation of each X variable by the square root of the number of variables:\n",
    "\n",
    "σ(Y) = sqrt(n) * σ(X)\n",
    "\n",
    "Using the given PMF and assuming you have the mean and standard deviation for each X variable, you can calculate the mean and standard deviation of Y.\n",
    "\n",
    "Once you have the mean and standard deviation of Y, you can approximate the probability P(4 ≤ Y ≤ 6) using the normal distribution.\n",
    "\n",
    "Let Z be a standardized random variable:\n",
    "\n",
    "Z = (Y - E(Y)) / σ(Y)\n",
    "\n",
    "Then, calculate the probability P(Z ≤ (6 - E(Y)) / σ(Y)) and subtract the probability P(Z ≤ (4 - E(Y)) / σ(Y)) from it to estimate P(4 ≤ Y ≤ 6).\n",
    "\n",
    "Keep in mind that the central limit theorem is an approximation, and the accuracy of the estimation depends on the sample size and the distribution of the original random variables."
   ]
  },
  {
   "cell_type": "code",
   "execution_count": null,
   "id": "5ccf653c",
   "metadata": {},
   "outputs": [],
   "source": []
  }
 ],
 "metadata": {
  "kernelspec": {
   "display_name": "Python 3 (ipykernel)",
   "language": "python",
   "name": "python3"
  },
  "language_info": {
   "codemirror_mode": {
    "name": "ipython",
    "version": 3
   },
   "file_extension": ".py",
   "mimetype": "text/x-python",
   "name": "python",
   "nbconvert_exporter": "python",
   "pygments_lexer": "ipython3",
   "version": "3.9.7"
  }
 },
 "nbformat": 4,
 "nbformat_minor": 5
}
